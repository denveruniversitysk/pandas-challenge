{
 "cells": [
  {
   "cell_type": "markdown",
   "metadata": {},
   "source": [
    "### Heroes Of Pymoli Data Analysis\n",
    "* Of the 1163 active players, the vast majority are male (84%). There also exists, a smaller, but notable proportion of female players (14%).\n",
    "\n",
    "* Our peak age demographic falls between 20-24 (44.8%) with secondary groups falling between 15-19 (18.60%) and 25-29 (13.4%).  \n",
    "-----"
   ]
  },
  {
   "cell_type": "markdown",
   "metadata": {},
   "source": [
    "### Note\n",
    "* Instructions have been included for each segment. You do not have to follow them exactly, but they are included to help you think through the steps."
   ]
  },
  {
   "cell_type": "code",
   "execution_count": 1,
   "metadata": {},
   "outputs": [
    {
     "data": {
      "text/html": [
       "<div>\n",
       "<style scoped>\n",
       "    .dataframe tbody tr th:only-of-type {\n",
       "        vertical-align: middle;\n",
       "    }\n",
       "\n",
       "    .dataframe tbody tr th {\n",
       "        vertical-align: top;\n",
       "    }\n",
       "\n",
       "    .dataframe thead th {\n",
       "        text-align: right;\n",
       "    }\n",
       "</style>\n",
       "<table border=\"1\" class=\"dataframe\">\n",
       "  <thead>\n",
       "    <tr style=\"text-align: right;\">\n",
       "      <th></th>\n",
       "      <th>Purchase ID</th>\n",
       "      <th>SN</th>\n",
       "      <th>Age</th>\n",
       "      <th>Gender</th>\n",
       "      <th>Item ID</th>\n",
       "      <th>Item Name</th>\n",
       "      <th>Price</th>\n",
       "    </tr>\n",
       "  </thead>\n",
       "  <tbody>\n",
       "    <tr>\n",
       "      <td>0</td>\n",
       "      <td>0</td>\n",
       "      <td>Lisim78</td>\n",
       "      <td>20</td>\n",
       "      <td>Male</td>\n",
       "      <td>108</td>\n",
       "      <td>Extraction, Quickblade Of Trembling Hands</td>\n",
       "      <td>3.53</td>\n",
       "    </tr>\n",
       "    <tr>\n",
       "      <td>1</td>\n",
       "      <td>1</td>\n",
       "      <td>Lisovynya38</td>\n",
       "      <td>40</td>\n",
       "      <td>Male</td>\n",
       "      <td>143</td>\n",
       "      <td>Frenzied Scimitar</td>\n",
       "      <td>1.56</td>\n",
       "    </tr>\n",
       "    <tr>\n",
       "      <td>2</td>\n",
       "      <td>2</td>\n",
       "      <td>Ithergue48</td>\n",
       "      <td>24</td>\n",
       "      <td>Male</td>\n",
       "      <td>92</td>\n",
       "      <td>Final Critic</td>\n",
       "      <td>4.88</td>\n",
       "    </tr>\n",
       "    <tr>\n",
       "      <td>3</td>\n",
       "      <td>3</td>\n",
       "      <td>Chamassasya86</td>\n",
       "      <td>24</td>\n",
       "      <td>Male</td>\n",
       "      <td>100</td>\n",
       "      <td>Blindscythe</td>\n",
       "      <td>3.27</td>\n",
       "    </tr>\n",
       "    <tr>\n",
       "      <td>4</td>\n",
       "      <td>4</td>\n",
       "      <td>Iskosia90</td>\n",
       "      <td>23</td>\n",
       "      <td>Male</td>\n",
       "      <td>131</td>\n",
       "      <td>Fury</td>\n",
       "      <td>1.44</td>\n",
       "    </tr>\n",
       "  </tbody>\n",
       "</table>\n",
       "</div>"
      ],
      "text/plain": [
       "   Purchase ID             SN  Age Gender  Item ID  \\\n",
       "0            0        Lisim78   20   Male      108   \n",
       "1            1    Lisovynya38   40   Male      143   \n",
       "2            2     Ithergue48   24   Male       92   \n",
       "3            3  Chamassasya86   24   Male      100   \n",
       "4            4      Iskosia90   23   Male      131   \n",
       "\n",
       "                                   Item Name  Price  \n",
       "0  Extraction, Quickblade Of Trembling Hands   3.53  \n",
       "1                          Frenzied Scimitar   1.56  \n",
       "2                               Final Critic   4.88  \n",
       "3                                Blindscythe   3.27  \n",
       "4                                       Fury   1.44  "
      ]
     },
     "execution_count": 1,
     "metadata": {},
     "output_type": "execute_result"
    }
   ],
   "source": [
    "# Dependencies and Setup\n",
    "import pandas as pd\n",
    "\n",
    "# File to Load (Remember to Change These)\n",
    "file_to_load = \"Resources/purchase_data.csv\"\n",
    "\n",
    "# Read Purchasing File and store into Pandas data frame\n",
    "purchase_data = pd.read_csv(file_to_load)\n",
    "purchase_data.head()"
   ]
  },
  {
   "cell_type": "markdown",
   "metadata": {},
   "source": [
    "## Player Count"
   ]
  },
  {
   "cell_type": "markdown",
   "metadata": {},
   "source": [
    "* Display the total number of players\n"
   ]
  },
  {
   "cell_type": "code",
   "execution_count": 2,
   "metadata": {},
   "outputs": [
    {
     "name": "stdout",
     "output_type": "stream",
     "text": [
      "Total Players: 576\n"
     ]
    }
   ],
   "source": [
    "# Using .loc function to access rows in dataset\n",
    "players_df = purchase_data.loc[:, [\"SN\", \"Age\", \"Gender\"]].copy()\n",
    "\n",
    "# Dropping duplicates to avoid errors in calculation\n",
    "total_players = players_df.drop_duplicates(subset=None, keep='first', inplace=False)\n",
    "total_players\n",
    "\n",
    "# Creating variable and using function to return a list of values\n",
    "player_count = total_players['SN'].values\n",
    "\n",
    "# Using .size function to return number of rows\n",
    "print(f'Total Players: {player_count.size}')"
   ]
  },
  {
   "cell_type": "markdown",
   "metadata": {},
   "source": [
    "## Purchasing Analysis (Total)"
   ]
  },
  {
   "cell_type": "markdown",
   "metadata": {},
   "source": [
    "* Run basic calculations to obtain number of unique items, average price, etc.\n",
    "\n",
    "\n",
    "* Create a summary data frame to hold the results\n",
    "\n",
    "\n",
    "* Optional: give the displayed data cleaner formatting\n",
    "\n",
    "\n",
    "* Display the summary data frame\n"
   ]
  },
  {
   "cell_type": "code",
   "execution_count": 3,
   "metadata": {
    "scrolled": true
   },
   "outputs": [
    {
     "data": {
      "text/html": [
       "<div>\n",
       "<style scoped>\n",
       "    .dataframe tbody tr th:only-of-type {\n",
       "        vertical-align: middle;\n",
       "    }\n",
       "\n",
       "    .dataframe tbody tr th {\n",
       "        vertical-align: top;\n",
       "    }\n",
       "\n",
       "    .dataframe thead th {\n",
       "        text-align: right;\n",
       "    }\n",
       "</style>\n",
       "<table border=\"1\" class=\"dataframe\">\n",
       "  <thead>\n",
       "    <tr style=\"text-align: right;\">\n",
       "      <th></th>\n",
       "      <th>Number of Unique Items</th>\n",
       "      <th>Average Price</th>\n",
       "      <th>Number of Purchases</th>\n",
       "      <th>Total Revenue</th>\n",
       "    </tr>\n",
       "  </thead>\n",
       "  <tbody>\n",
       "    <tr>\n",
       "      <td>0</td>\n",
       "      <td>179</td>\n",
       "      <td>$3.05</td>\n",
       "      <td>780</td>\n",
       "      <td>$2,379.77</td>\n",
       "    </tr>\n",
       "  </tbody>\n",
       "</table>\n",
       "</div>"
      ],
      "text/plain": [
       "   Number of Unique Items Average Price  Number of Purchases Total Revenue\n",
       "0                     179         $3.05                  780     $2,379.77"
      ]
     },
     "execution_count": 3,
     "metadata": {},
     "output_type": "execute_result"
    }
   ],
   "source": [
    "# Creating variable to define the length of a string to calculate unique items in purchase_data\n",
    "unique_items = len(purchase_data['Item ID'].unique())\n",
    "\n",
    "# Creating variable to calculate mean of average price\n",
    "average_price = purchase_data['Price'].mean()\n",
    "\n",
    "# Creating variable to calculate count of purchase numbers\n",
    "number_purchases = purchase_data['Purchase ID'].count()\n",
    "\n",
    "# Creating variable to calculate sum of total revenue based on prices\n",
    "total_revenue = purchase_data['Price'].sum()\n",
    "\n",
    "# Building DataFrame\n",
    "purchase_analysis = pd.DataFrame({\"Number of Unique Items\": unique_items, \n",
    "                                  \"Average Price\": [average_price], \n",
    "                                  \"Number of Purchases\": [number_purchases], \n",
    "                                  \"Total Revenue\": [total_revenue]})\n",
    "\n",
    "\n",
    "# Formatting DataFrame\n",
    "purchase_analysis = purchase_analysis.round(2)\n",
    "purchase_analysis[\"Average Price\"] = purchase_analysis[\"Average Price\"].map(\"${:,.2f}\".format)\n",
    "purchase_analysis[\"Total Revenue\"] = purchase_analysis[\"Total Revenue\"].map(\"${:,.2f}\".format)\n",
    "\n",
    "purchase_analysis"
   ]
  },
  {
   "cell_type": "markdown",
   "metadata": {},
   "source": [
    "## Gender Demographics"
   ]
  },
  {
   "cell_type": "markdown",
   "metadata": {},
   "source": [
    "* Percentage and Count of Male Players\n",
    "\n",
    "\n",
    "* Percentage and Count of Female Players\n",
    "\n",
    "\n",
    "* Percentage and Count of Other / Non-Disclosed\n",
    "\n",
    "\n"
   ]
  },
  {
   "cell_type": "code",
   "execution_count": 4,
   "metadata": {},
   "outputs": [
    {
     "data": {
      "text/html": [
       "<style  type=\"text/css\" >\n",
       "</style><table id=\"T_c73d3a8c_7eb9_11ea_a6c0_ec5c6878d556\" ><thead>    <tr>        <th class=\"blank level0\" ></th>        <th class=\"col_heading level0 col0\" >Total Count</th>        <th class=\"col_heading level0 col1\" >Percentage of Players</th>    </tr></thead><tbody>\n",
       "                <tr>\n",
       "                        <th id=\"T_c73d3a8c_7eb9_11ea_a6c0_ec5c6878d556level0_row0\" class=\"row_heading level0 row0\" >Male</th>\n",
       "                        <td id=\"T_c73d3a8c_7eb9_11ea_a6c0_ec5c6878d556row0_col0\" class=\"data row0 col0\" >484</td>\n",
       "                        <td id=\"T_c73d3a8c_7eb9_11ea_a6c0_ec5c6878d556row0_col1\" class=\"data row0 col1\" >84.03%</td>\n",
       "            </tr>\n",
       "            <tr>\n",
       "                        <th id=\"T_c73d3a8c_7eb9_11ea_a6c0_ec5c6878d556level0_row1\" class=\"row_heading level0 row1\" >Female</th>\n",
       "                        <td id=\"T_c73d3a8c_7eb9_11ea_a6c0_ec5c6878d556row1_col0\" class=\"data row1 col0\" >81</td>\n",
       "                        <td id=\"T_c73d3a8c_7eb9_11ea_a6c0_ec5c6878d556row1_col1\" class=\"data row1 col1\" >14.06%</td>\n",
       "            </tr>\n",
       "            <tr>\n",
       "                        <th id=\"T_c73d3a8c_7eb9_11ea_a6c0_ec5c6878d556level0_row2\" class=\"row_heading level0 row2\" >Other / Non-Disclosed</th>\n",
       "                        <td id=\"T_c73d3a8c_7eb9_11ea_a6c0_ec5c6878d556row2_col0\" class=\"data row2 col0\" >11</td>\n",
       "                        <td id=\"T_c73d3a8c_7eb9_11ea_a6c0_ec5c6878d556row2_col1\" class=\"data row2 col1\" >1.91%</td>\n",
       "            </tr>\n",
       "    </tbody></table>"
      ],
      "text/plain": [
       "<pandas.io.formats.style.Styler at 0x2333904dfc8>"
      ]
     },
     "execution_count": 4,
     "metadata": {},
     "output_type": "execute_result"
    }
   ],
   "source": [
    "# Creating variable to get a series containing counts of unique values\n",
    "gender_counts = total_players[\"Gender\"].value_counts()\n",
    "\n",
    "# Using .size function to return number of rows\n",
    "gender_percents = gender_counts / player_count.size\n",
    "\n",
    "# Creating DataFrame\n",
    "gender_summary = pd.DataFrame({\"Total Count\":gender_counts, \"Percentage of Players\": gender_percents})\n",
    "\n",
    "gender_summary \n",
    "\n",
    "# Formatting DataFrame\n",
    "gender_summary.style.format({\"Percentage of Players\":\"{:.2%}\"})"
   ]
  },
  {
   "cell_type": "markdown",
   "metadata": {},
   "source": [
    "\n",
    "## Purchasing Analysis (Gender)"
   ]
  },
  {
   "cell_type": "markdown",
   "metadata": {},
   "source": [
    "* Run basic calculations to obtain purchase count, avg. purchase price, avg. purchase total per person etc. by gender\n",
    "\n",
    "\n",
    "\n",
    "\n",
    "* Create a summary data frame to hold the results\n",
    "\n",
    "\n",
    "* Optional: give the displayed data cleaner formatting\n",
    "\n",
    "\n",
    "* Display the summary data frame"
   ]
  },
  {
   "cell_type": "code",
   "execution_count": 5,
   "metadata": {},
   "outputs": [
    {
     "data": {
      "text/html": [
       "<div>\n",
       "<style scoped>\n",
       "    .dataframe tbody tr th:only-of-type {\n",
       "        vertical-align: middle;\n",
       "    }\n",
       "\n",
       "    .dataframe tbody tr th {\n",
       "        vertical-align: top;\n",
       "    }\n",
       "\n",
       "    .dataframe thead th {\n",
       "        text-align: right;\n",
       "    }\n",
       "</style>\n",
       "<table border=\"1\" class=\"dataframe\">\n",
       "  <thead>\n",
       "    <tr style=\"text-align: right;\">\n",
       "      <th></th>\n",
       "      <th>Purchase Count</th>\n",
       "      <th>Average Purchase Price</th>\n",
       "      <th>Total Purchase Value</th>\n",
       "      <th>Avg Total Purchase per Person</th>\n",
       "    </tr>\n",
       "    <tr>\n",
       "      <th>Gender</th>\n",
       "      <th></th>\n",
       "      <th></th>\n",
       "      <th></th>\n",
       "      <th></th>\n",
       "    </tr>\n",
       "  </thead>\n",
       "  <tbody>\n",
       "    <tr>\n",
       "      <td>Female</td>\n",
       "      <td>113</td>\n",
       "      <td>$3.20</td>\n",
       "      <td>$361.94</td>\n",
       "      <td>$4.47</td>\n",
       "    </tr>\n",
       "    <tr>\n",
       "      <td>Male</td>\n",
       "      <td>652</td>\n",
       "      <td>$3.02</td>\n",
       "      <td>$1,967.64</td>\n",
       "      <td>$4.07</td>\n",
       "    </tr>\n",
       "    <tr>\n",
       "      <td>Other / Non-Disclosed</td>\n",
       "      <td>15</td>\n",
       "      <td>$3.35</td>\n",
       "      <td>$50.19</td>\n",
       "      <td>$4.56</td>\n",
       "    </tr>\n",
       "  </tbody>\n",
       "</table>\n",
       "</div>"
      ],
      "text/plain": [
       "                       Purchase Count Average Purchase Price  \\\n",
       "Gender                                                         \n",
       "Female                            113                  $3.20   \n",
       "Male                              652                  $3.02   \n",
       "Other / Non-Disclosed              15                  $3.35   \n",
       "\n",
       "                      Total Purchase Value Avg Total Purchase per Person  \n",
       "Gender                                                                    \n",
       "Female                             $361.94                         $4.47  \n",
       "Male                             $1,967.64                         $4.07  \n",
       "Other / Non-Disclosed               $50.19                         $4.56  "
      ]
     },
     "execution_count": 5,
     "metadata": {},
     "output_type": "execute_result"
    }
   ],
   "source": [
    "# Splitting data into groups by gender\n",
    "group_gender = purchase_data.groupby([\"Gender\"])\n",
    "\n",
    "# Calculating purchase count based on gender\n",
    "purchase_count = group_gender[\"SN\"].count()\n",
    "\n",
    "# Calculating average purchase price \n",
    "ave_pur_price = group_gender[\"Price\"].mean()\n",
    "\n",
    "# Calculating sum of purchase per total person \n",
    "tot_pur_value = group_gender[\"Price\"].sum()\n",
    "\n",
    "# Dropping duplicates to avoid errors in calculation\n",
    "dupl_values = purchase_data.drop_duplicates(subset='SN', keep=\"first\")\n",
    "\n",
    "# Splitting data into groups based on duplicate values\n",
    "group_dupl = dupl_values.groupby([\"Gender\"])\n",
    "\n",
    "# Calculating average total purchase per person\n",
    "ave_per_person = (group_gender[\"Price\"].sum()/group_dupl[\"SN\"].count())\n",
    "\n",
    "# Creating DataFrame\n",
    "purch_analysis = pd.DataFrame({\"Purchase Count\": purchase_count,\n",
    "                              \"Average Purchase Price\": ave_pur_price,\n",
    "                              \"Total Purchase Value\": tot_pur_value,\n",
    "                              \"Avg Total Purchase per Person\": ave_per_person})\n",
    "\n",
    "# Formatting DataFrame\n",
    "purch_analysis[\"Average Purchase Price\"] = purch_analysis[\"Average Purchase Price\"].map(\"${:,.2f}\".format)\n",
    "purch_analysis[\"Total Purchase Value\"] = purch_analysis[\"Total Purchase Value\"].map(\"${:,.2f}\".format)\n",
    "purch_analysis[\"Avg Total Purchase per Person\"] = purch_analysis[\"Avg Total Purchase per Person\"].map(\"${:,.2f}\".format)\n",
    "purch_analysis = purch_analysis[[\"Purchase Count\", \"Average Purchase Price\", \"Total Purchase Value\", \n",
    "                                \"Avg Total Purchase per Person\"]]\n",
    "purch_analysis"
   ]
  },
  {
   "cell_type": "markdown",
   "metadata": {},
   "source": [
    "## Age Demographics"
   ]
  },
  {
   "cell_type": "markdown",
   "metadata": {},
   "source": [
    "* Establish bins for ages\n",
    "\n",
    "\n",
    "* Categorize the existing players using the age bins. Hint: use pd.cut()\n",
    "\n",
    "\n",
    "* Calculate the numbers and percentages by age group\n",
    "\n",
    "\n",
    "* Create a summary data frame to hold the results\n",
    "\n",
    "\n",
    "* Optional: round the percentage column to two decimal points\n",
    "\n",
    "\n",
    "* Display Age Demographics Table\n"
   ]
  },
  {
   "cell_type": "code",
   "execution_count": 6,
   "metadata": {},
   "outputs": [
    {
     "data": {
      "text/html": [
       "<style  type=\"text/css\" >\n",
       "</style><table id=\"T_c7460e26_7eb9_11ea_933f_ec5c6878d556\" ><thead>    <tr>        <th class=\"blank level0\" ></th>        <th class=\"col_heading level0 col0\" >Total Count</th>        <th class=\"col_heading level0 col1\" >Percentage of Players</th>    </tr></thead><tbody>\n",
       "                <tr>\n",
       "                        <th id=\"T_c7460e26_7eb9_11ea_933f_ec5c6878d556level0_row0\" class=\"row_heading level0 row0\" ><10</th>\n",
       "                        <td id=\"T_c7460e26_7eb9_11ea_933f_ec5c6878d556row0_col0\" class=\"data row0 col0\" >17</td>\n",
       "                        <td id=\"T_c7460e26_7eb9_11ea_933f_ec5c6878d556row0_col1\" class=\"data row0 col1\" >2.95%</td>\n",
       "            </tr>\n",
       "            <tr>\n",
       "                        <th id=\"T_c7460e26_7eb9_11ea_933f_ec5c6878d556level0_row1\" class=\"row_heading level0 row1\" >10-14</th>\n",
       "                        <td id=\"T_c7460e26_7eb9_11ea_933f_ec5c6878d556row1_col0\" class=\"data row1 col0\" >22</td>\n",
       "                        <td id=\"T_c7460e26_7eb9_11ea_933f_ec5c6878d556row1_col1\" class=\"data row1 col1\" >3.82%</td>\n",
       "            </tr>\n",
       "            <tr>\n",
       "                        <th id=\"T_c7460e26_7eb9_11ea_933f_ec5c6878d556level0_row2\" class=\"row_heading level0 row2\" >15-19</th>\n",
       "                        <td id=\"T_c7460e26_7eb9_11ea_933f_ec5c6878d556row2_col0\" class=\"data row2 col0\" >107</td>\n",
       "                        <td id=\"T_c7460e26_7eb9_11ea_933f_ec5c6878d556row2_col1\" class=\"data row2 col1\" >18.58%</td>\n",
       "            </tr>\n",
       "            <tr>\n",
       "                        <th id=\"T_c7460e26_7eb9_11ea_933f_ec5c6878d556level0_row3\" class=\"row_heading level0 row3\" >20-24</th>\n",
       "                        <td id=\"T_c7460e26_7eb9_11ea_933f_ec5c6878d556row3_col0\" class=\"data row3 col0\" >258</td>\n",
       "                        <td id=\"T_c7460e26_7eb9_11ea_933f_ec5c6878d556row3_col1\" class=\"data row3 col1\" >44.79%</td>\n",
       "            </tr>\n",
       "            <tr>\n",
       "                        <th id=\"T_c7460e26_7eb9_11ea_933f_ec5c6878d556level0_row4\" class=\"row_heading level0 row4\" >25-29</th>\n",
       "                        <td id=\"T_c7460e26_7eb9_11ea_933f_ec5c6878d556row4_col0\" class=\"data row4 col0\" >77</td>\n",
       "                        <td id=\"T_c7460e26_7eb9_11ea_933f_ec5c6878d556row4_col1\" class=\"data row4 col1\" >13.37%</td>\n",
       "            </tr>\n",
       "            <tr>\n",
       "                        <th id=\"T_c7460e26_7eb9_11ea_933f_ec5c6878d556level0_row5\" class=\"row_heading level0 row5\" >30-34</th>\n",
       "                        <td id=\"T_c7460e26_7eb9_11ea_933f_ec5c6878d556row5_col0\" class=\"data row5 col0\" >52</td>\n",
       "                        <td id=\"T_c7460e26_7eb9_11ea_933f_ec5c6878d556row5_col1\" class=\"data row5 col1\" >9.03%</td>\n",
       "            </tr>\n",
       "            <tr>\n",
       "                        <th id=\"T_c7460e26_7eb9_11ea_933f_ec5c6878d556level0_row6\" class=\"row_heading level0 row6\" >35-39</th>\n",
       "                        <td id=\"T_c7460e26_7eb9_11ea_933f_ec5c6878d556row6_col0\" class=\"data row6 col0\" >31</td>\n",
       "                        <td id=\"T_c7460e26_7eb9_11ea_933f_ec5c6878d556row6_col1\" class=\"data row6 col1\" >5.38%</td>\n",
       "            </tr>\n",
       "            <tr>\n",
       "                        <th id=\"T_c7460e26_7eb9_11ea_933f_ec5c6878d556level0_row7\" class=\"row_heading level0 row7\" >40+</th>\n",
       "                        <td id=\"T_c7460e26_7eb9_11ea_933f_ec5c6878d556row7_col0\" class=\"data row7 col0\" >12</td>\n",
       "                        <td id=\"T_c7460e26_7eb9_11ea_933f_ec5c6878d556row7_col1\" class=\"data row7 col1\" >2.08%</td>\n",
       "            </tr>\n",
       "    </tbody></table>"
      ],
      "text/plain": [
       "<pandas.io.formats.style.Styler at 0x233398c3488>"
      ]
     },
     "execution_count": 6,
     "metadata": {},
     "output_type": "execute_result"
    }
   ],
   "source": [
    "# Creating variable to define the length of a string to calculate age demographics and getting counts of unique values\n",
    "sum_of_players = len(purchase_data[\"SN\"].value_counts())\n",
    "\n",
    "# Creating bins for ages\n",
    "bins = [0, 9.90, 14.90, 19.90, 24.90, 29.90, 34.90, 39.90, 99999]\n",
    "\n",
    "# Creating column ranges for ages\n",
    "columns = [\"<10\", \"10-14\", \"15-19\", \"20-24\", \"25-29\", \"30-34\", \"35-39\", \"40+\"]\n",
    "\n",
    "# Sorting age values into established bins\n",
    "purchase_data[\"Age By Group\"] = pd.cut(purchase_data[\"Age\"],bins, labels=columns)\n",
    "purchase_data\n",
    "\n",
    "# Splitting data into groups by age\n",
    "age_by_group = purchase_data.groupby(\"Age By Group\")\n",
    "\n",
    "# Using .nunique function to get total number of unique players by age\n",
    "players_by_age = age_by_group[\"SN\"].nunique()\n",
    "\n",
    "# Calculating percentage by age categories\n",
    "percent_categorized_age = (players_by_age/sum_of_players) * 100\n",
    "\n",
    "# Creating DataFrame\n",
    "demographics_by_age = pd.DataFrame({\"Total Count\": players_by_age, \"Percentage of Players\": percent_categorized_age})\n",
    "\n",
    "# Setting index for DataFrame\n",
    "demographics_by_age.index.name = None\n",
    "\n",
    "# Formatting DataFrame\n",
    "demographics_by_age.style.format({\"Percentage of Players\":\"{:,.2f}%\"})"
   ]
  },
  {
   "cell_type": "markdown",
   "metadata": {},
   "source": [
    "## Purchasing Analysis (Age)"
   ]
  },
  {
   "cell_type": "markdown",
   "metadata": {},
   "source": [
    "* Bin the purchase_data data frame by age\n",
    "\n",
    "\n",
    "* Run basic calculations to obtain purchase count, avg. purchase price, avg. purchase total per person etc. in the table below\n",
    "\n",
    "\n",
    "* Create a summary data frame to hold the results\n",
    "\n",
    "\n",
    "* Optional: give the displayed data cleaner formatting\n",
    "\n",
    "\n",
    "* Display the summary data frame"
   ]
  },
  {
   "cell_type": "code",
   "execution_count": 7,
   "metadata": {},
   "outputs": [
    {
     "data": {
      "text/html": [
       "<style  type=\"text/css\" >\n",
       "</style><table id=\"T_c748f26c_7eb9_11ea_b878_ec5c6878d556\" ><thead>    <tr>        <th class=\"blank level0\" ></th>        <th class=\"col_heading level0 col0\" >Purchase Count</th>        <th class=\"col_heading level0 col1\" >Average Purchase Price</th>        <th class=\"col_heading level0 col2\" >Total Purchase Value</th>        <th class=\"col_heading level0 col3\" >Avg Total Purchase per Person</th>    </tr>    <tr>        <th class=\"index_name level0\" >Age Ranges</th>        <th class=\"blank\" ></th>        <th class=\"blank\" ></th>        <th class=\"blank\" ></th>        <th class=\"blank\" ></th>    </tr></thead><tbody>\n",
       "                <tr>\n",
       "                        <th id=\"T_c748f26c_7eb9_11ea_b878_ec5c6878d556level0_row0\" class=\"row_heading level0 row0\" ><10</th>\n",
       "                        <td id=\"T_c748f26c_7eb9_11ea_b878_ec5c6878d556row0_col0\" class=\"data row0 col0\" >23</td>\n",
       "                        <td id=\"T_c748f26c_7eb9_11ea_b878_ec5c6878d556row0_col1\" class=\"data row0 col1\" >$3.35</td>\n",
       "                        <td id=\"T_c748f26c_7eb9_11ea_b878_ec5c6878d556row0_col2\" class=\"data row0 col2\" >$77.13</td>\n",
       "                        <td id=\"T_c748f26c_7eb9_11ea_b878_ec5c6878d556row0_col3\" class=\"data row0 col3\" >$4.54</td>\n",
       "            </tr>\n",
       "            <tr>\n",
       "                        <th id=\"T_c748f26c_7eb9_11ea_b878_ec5c6878d556level0_row1\" class=\"row_heading level0 row1\" >10-14</th>\n",
       "                        <td id=\"T_c748f26c_7eb9_11ea_b878_ec5c6878d556row1_col0\" class=\"data row1 col0\" >28</td>\n",
       "                        <td id=\"T_c748f26c_7eb9_11ea_b878_ec5c6878d556row1_col1\" class=\"data row1 col1\" >$2.96</td>\n",
       "                        <td id=\"T_c748f26c_7eb9_11ea_b878_ec5c6878d556row1_col2\" class=\"data row1 col2\" >$82.78</td>\n",
       "                        <td id=\"T_c748f26c_7eb9_11ea_b878_ec5c6878d556row1_col3\" class=\"data row1 col3\" >$3.76</td>\n",
       "            </tr>\n",
       "            <tr>\n",
       "                        <th id=\"T_c748f26c_7eb9_11ea_b878_ec5c6878d556level0_row2\" class=\"row_heading level0 row2\" >15-19</th>\n",
       "                        <td id=\"T_c748f26c_7eb9_11ea_b878_ec5c6878d556row2_col0\" class=\"data row2 col0\" >136</td>\n",
       "                        <td id=\"T_c748f26c_7eb9_11ea_b878_ec5c6878d556row2_col1\" class=\"data row2 col1\" >$3.04</td>\n",
       "                        <td id=\"T_c748f26c_7eb9_11ea_b878_ec5c6878d556row2_col2\" class=\"data row2 col2\" >$412.89</td>\n",
       "                        <td id=\"T_c748f26c_7eb9_11ea_b878_ec5c6878d556row2_col3\" class=\"data row2 col3\" >$3.86</td>\n",
       "            </tr>\n",
       "            <tr>\n",
       "                        <th id=\"T_c748f26c_7eb9_11ea_b878_ec5c6878d556level0_row3\" class=\"row_heading level0 row3\" >20-24</th>\n",
       "                        <td id=\"T_c748f26c_7eb9_11ea_b878_ec5c6878d556row3_col0\" class=\"data row3 col0\" >365</td>\n",
       "                        <td id=\"T_c748f26c_7eb9_11ea_b878_ec5c6878d556row3_col1\" class=\"data row3 col1\" >$3.05</td>\n",
       "                        <td id=\"T_c748f26c_7eb9_11ea_b878_ec5c6878d556row3_col2\" class=\"data row3 col2\" >$1,114.06</td>\n",
       "                        <td id=\"T_c748f26c_7eb9_11ea_b878_ec5c6878d556row3_col3\" class=\"data row3 col3\" >$4.32</td>\n",
       "            </tr>\n",
       "            <tr>\n",
       "                        <th id=\"T_c748f26c_7eb9_11ea_b878_ec5c6878d556level0_row4\" class=\"row_heading level0 row4\" >25-29</th>\n",
       "                        <td id=\"T_c748f26c_7eb9_11ea_b878_ec5c6878d556row4_col0\" class=\"data row4 col0\" >101</td>\n",
       "                        <td id=\"T_c748f26c_7eb9_11ea_b878_ec5c6878d556row4_col1\" class=\"data row4 col1\" >$2.90</td>\n",
       "                        <td id=\"T_c748f26c_7eb9_11ea_b878_ec5c6878d556row4_col2\" class=\"data row4 col2\" >$293.00</td>\n",
       "                        <td id=\"T_c748f26c_7eb9_11ea_b878_ec5c6878d556row4_col3\" class=\"data row4 col3\" >$3.81</td>\n",
       "            </tr>\n",
       "            <tr>\n",
       "                        <th id=\"T_c748f26c_7eb9_11ea_b878_ec5c6878d556level0_row5\" class=\"row_heading level0 row5\" >30-34</th>\n",
       "                        <td id=\"T_c748f26c_7eb9_11ea_b878_ec5c6878d556row5_col0\" class=\"data row5 col0\" >73</td>\n",
       "                        <td id=\"T_c748f26c_7eb9_11ea_b878_ec5c6878d556row5_col1\" class=\"data row5 col1\" >$2.93</td>\n",
       "                        <td id=\"T_c748f26c_7eb9_11ea_b878_ec5c6878d556row5_col2\" class=\"data row5 col2\" >$214.00</td>\n",
       "                        <td id=\"T_c748f26c_7eb9_11ea_b878_ec5c6878d556row5_col3\" class=\"data row5 col3\" >$4.12</td>\n",
       "            </tr>\n",
       "            <tr>\n",
       "                        <th id=\"T_c748f26c_7eb9_11ea_b878_ec5c6878d556level0_row6\" class=\"row_heading level0 row6\" >35-39</th>\n",
       "                        <td id=\"T_c748f26c_7eb9_11ea_b878_ec5c6878d556row6_col0\" class=\"data row6 col0\" >41</td>\n",
       "                        <td id=\"T_c748f26c_7eb9_11ea_b878_ec5c6878d556row6_col1\" class=\"data row6 col1\" >$3.60</td>\n",
       "                        <td id=\"T_c748f26c_7eb9_11ea_b878_ec5c6878d556row6_col2\" class=\"data row6 col2\" >$147.67</td>\n",
       "                        <td id=\"T_c748f26c_7eb9_11ea_b878_ec5c6878d556row6_col3\" class=\"data row6 col3\" >$4.76</td>\n",
       "            </tr>\n",
       "            <tr>\n",
       "                        <th id=\"T_c748f26c_7eb9_11ea_b878_ec5c6878d556level0_row7\" class=\"row_heading level0 row7\" >40+</th>\n",
       "                        <td id=\"T_c748f26c_7eb9_11ea_b878_ec5c6878d556row7_col0\" class=\"data row7 col0\" >13</td>\n",
       "                        <td id=\"T_c748f26c_7eb9_11ea_b878_ec5c6878d556row7_col1\" class=\"data row7 col1\" >$2.94</td>\n",
       "                        <td id=\"T_c748f26c_7eb9_11ea_b878_ec5c6878d556row7_col2\" class=\"data row7 col2\" >$38.24</td>\n",
       "                        <td id=\"T_c748f26c_7eb9_11ea_b878_ec5c6878d556row7_col3\" class=\"data row7 col3\" >$3.19</td>\n",
       "            </tr>\n",
       "    </tbody></table>"
      ],
      "text/plain": [
       "<pandas.io.formats.style.Styler at 0x2333994b888>"
      ]
     },
     "execution_count": 7,
     "metadata": {},
     "output_type": "execute_result"
    }
   ],
   "source": [
    "# Calculating purchase count\n",
    "purchase_by_age = age_by_group[\"Purchase ID\"].count()\n",
    "\n",
    "# Calculating average purchase price\n",
    "average_pur_price = age_by_group[\"Price\"].mean()\n",
    "\n",
    "# Calculating purchase total per player\n",
    "total_per_person = age_by_group[\"Price\"].sum()\n",
    "\n",
    "# Calculating average purchase per player\n",
    "average_pur_per_person = total_per_person/players_by_age\n",
    "\n",
    "# Creating DataFrame\n",
    "purchase_analysis_age = pd.DataFrame({\"Purchase Count\": purchase_by_age,\n",
    "                                     \"Average Purchase Price\": average_pur_price,\n",
    "                                      \"Total Purchase Value\": total_per_person,\n",
    "                                      \"Avg Total Purchase per Person\": average_pur_per_person\n",
    "                                     })\n",
    "purchase_analysis_age.index.name = \"Age Ranges\"\n",
    "\n",
    "# Formatting DataFrame\n",
    "purchase_analysis_age.style.format({\"Average Purchase Price\":\"${:,.2f}\",\n",
    "                                    \"Total Purchase Value\":\"${:,.2f}\",\n",
    "                                    \"Avg Total Purchase per Person\":\"${:,.2f}\"})"
   ]
  },
  {
   "cell_type": "markdown",
   "metadata": {},
   "source": [
    "## Top Spenders"
   ]
  },
  {
   "cell_type": "markdown",
   "metadata": {},
   "source": [
    "* Run basic calculations to obtain the results in the table below\n",
    "\n",
    "\n",
    "* Create a summary data frame to hold the results\n",
    "\n",
    "\n",
    "* Sort the total purchase value column in descending order\n",
    "\n",
    "\n",
    "* Optional: give the displayed data cleaner formatting\n",
    "\n",
    "\n",
    "* Display a preview of the summary data frame\n",
    "\n"
   ]
  },
  {
   "cell_type": "code",
   "execution_count": 8,
   "metadata": {},
   "outputs": [
    {
     "data": {
      "text/html": [
       "<style  type=\"text/css\" >\n",
       "</style><table id=\"T_c74f7d90_7eb9_11ea_81b4_ec5c6878d556\" ><thead>    <tr>        <th class=\"blank level0\" ></th>        <th class=\"col_heading level0 col0\" >Purchase Count</th>        <th class=\"col_heading level0 col1\" >Average Purchase Price</th>        <th class=\"col_heading level0 col2\" >Total Purchase Value</th>    </tr>    <tr>        <th class=\"index_name level0\" >SN</th>        <th class=\"blank\" ></th>        <th class=\"blank\" ></th>        <th class=\"blank\" ></th>    </tr></thead><tbody>\n",
       "                <tr>\n",
       "                        <th id=\"T_c74f7d90_7eb9_11ea_81b4_ec5c6878d556level0_row0\" class=\"row_heading level0 row0\" >Lisosia93</th>\n",
       "                        <td id=\"T_c74f7d90_7eb9_11ea_81b4_ec5c6878d556row0_col0\" class=\"data row0 col0\" >5</td>\n",
       "                        <td id=\"T_c74f7d90_7eb9_11ea_81b4_ec5c6878d556row0_col1\" class=\"data row0 col1\" >$3.79</td>\n",
       "                        <td id=\"T_c74f7d90_7eb9_11ea_81b4_ec5c6878d556row0_col2\" class=\"data row0 col2\" >$18.96</td>\n",
       "            </tr>\n",
       "            <tr>\n",
       "                        <th id=\"T_c74f7d90_7eb9_11ea_81b4_ec5c6878d556level0_row1\" class=\"row_heading level0 row1\" >Idastidru52</th>\n",
       "                        <td id=\"T_c74f7d90_7eb9_11ea_81b4_ec5c6878d556row1_col0\" class=\"data row1 col0\" >4</td>\n",
       "                        <td id=\"T_c74f7d90_7eb9_11ea_81b4_ec5c6878d556row1_col1\" class=\"data row1 col1\" >$3.86</td>\n",
       "                        <td id=\"T_c74f7d90_7eb9_11ea_81b4_ec5c6878d556row1_col2\" class=\"data row1 col2\" >$15.45</td>\n",
       "            </tr>\n",
       "            <tr>\n",
       "                        <th id=\"T_c74f7d90_7eb9_11ea_81b4_ec5c6878d556level0_row2\" class=\"row_heading level0 row2\" >Chamjask73</th>\n",
       "                        <td id=\"T_c74f7d90_7eb9_11ea_81b4_ec5c6878d556row2_col0\" class=\"data row2 col0\" >3</td>\n",
       "                        <td id=\"T_c74f7d90_7eb9_11ea_81b4_ec5c6878d556row2_col1\" class=\"data row2 col1\" >$4.61</td>\n",
       "                        <td id=\"T_c74f7d90_7eb9_11ea_81b4_ec5c6878d556row2_col2\" class=\"data row2 col2\" >$13.83</td>\n",
       "            </tr>\n",
       "            <tr>\n",
       "                        <th id=\"T_c74f7d90_7eb9_11ea_81b4_ec5c6878d556level0_row3\" class=\"row_heading level0 row3\" >Iral74</th>\n",
       "                        <td id=\"T_c74f7d90_7eb9_11ea_81b4_ec5c6878d556row3_col0\" class=\"data row3 col0\" >4</td>\n",
       "                        <td id=\"T_c74f7d90_7eb9_11ea_81b4_ec5c6878d556row3_col1\" class=\"data row3 col1\" >$3.40</td>\n",
       "                        <td id=\"T_c74f7d90_7eb9_11ea_81b4_ec5c6878d556row3_col2\" class=\"data row3 col2\" >$13.62</td>\n",
       "            </tr>\n",
       "            <tr>\n",
       "                        <th id=\"T_c74f7d90_7eb9_11ea_81b4_ec5c6878d556level0_row4\" class=\"row_heading level0 row4\" >Iskadarya95</th>\n",
       "                        <td id=\"T_c74f7d90_7eb9_11ea_81b4_ec5c6878d556row4_col0\" class=\"data row4 col0\" >3</td>\n",
       "                        <td id=\"T_c74f7d90_7eb9_11ea_81b4_ec5c6878d556row4_col1\" class=\"data row4 col1\" >$4.37</td>\n",
       "                        <td id=\"T_c74f7d90_7eb9_11ea_81b4_ec5c6878d556row4_col2\" class=\"data row4 col2\" >$13.10</td>\n",
       "            </tr>\n",
       "    </tbody></table>"
      ],
      "text/plain": [
       "<pandas.io.formats.style.Styler at 0x23339938708>"
      ]
     },
     "execution_count": 8,
     "metadata": {},
     "output_type": "execute_result"
    }
   ],
   "source": [
    "# Splitting data into groups by top spenders\n",
    "top_spenders = purchase_data.groupby(\"SN\")\n",
    "\n",
    "# Calculating total purchase count\n",
    "total_purchases = top_spenders[\"Purchase ID\"].count()\n",
    "\n",
    "# Calculating price based on average spender\n",
    "average_spender = top_spenders[\"Price\"].mean()\n",
    "\n",
    "# Calculating total purchase value\n",
    "total_purchase = top_spenders[\"Price\"].sum()\n",
    "\n",
    "# Creating DataFrame\n",
    "spenders = pd.DataFrame({\"Purchase Count\": total_purchases,\n",
    "                        \"Average Purchase Price\": average_spender,\n",
    "                        \"Total Purchase Value\": total_purchase})\n",
    "spenders_df = spenders.sort_values([\"Total Purchase Value\"], ascending=False).head()\n",
    "\n",
    "# Formatting DataFrame\n",
    "spenders_df.style.format({\"Average Purchase Total\":\"${:,.2f}\",\n",
    "                         \"Average Purchase Price\":\"${:,.2f}\",\n",
    "                         \"Total Purchase Value\":\"${:,.2f}\"\n",
    "                         })"
   ]
  },
  {
   "cell_type": "markdown",
   "metadata": {},
   "source": [
    "## Most Popular Items"
   ]
  },
  {
   "cell_type": "markdown",
   "metadata": {},
   "source": [
    "* Retrieve the Item ID, Item Name, and Item Price columns\n",
    "\n",
    "\n",
    "* Group by Item ID and Item Name. Perform calculations to obtain purchase count, item price, and total purchase value\n",
    "\n",
    "\n",
    "* Create a summary data frame to hold the results\n",
    "\n",
    "\n",
    "* Sort the purchase count column in descending order\n",
    "\n",
    "\n",
    "* Optional: give the displayed data cleaner formatting\n",
    "\n",
    "\n",
    "* Display a preview of the summary data frame\n",
    "\n"
   ]
  },
  {
   "cell_type": "code",
   "execution_count": 9,
   "metadata": {},
   "outputs": [
    {
     "data": {
      "text/html": [
       "<style  type=\"text/css\" >\n",
       "</style><table id=\"T_c753e762_7eb9_11ea_9398_ec5c6878d556\" ><thead>    <tr>        <th class=\"blank\" ></th>        <th class=\"blank level0\" ></th>        <th class=\"col_heading level0 col0\" >Purchase Count</th>        <th class=\"col_heading level0 col1\" >Item Price</th>        <th class=\"col_heading level0 col2\" >Total Purchase Value</th>    </tr>    <tr>        <th class=\"index_name level0\" >Item ID</th>        <th class=\"index_name level1\" >Item Name</th>        <th class=\"blank\" ></th>        <th class=\"blank\" ></th>        <th class=\"blank\" ></th>    </tr></thead><tbody>\n",
       "                <tr>\n",
       "                        <th id=\"T_c753e762_7eb9_11ea_9398_ec5c6878d556level0_row0\" class=\"row_heading level0 row0\" >92</th>\n",
       "                        <th id=\"T_c753e762_7eb9_11ea_9398_ec5c6878d556level1_row0\" class=\"row_heading level1 row0\" >Final Critic</th>\n",
       "                        <td id=\"T_c753e762_7eb9_11ea_9398_ec5c6878d556row0_col0\" class=\"data row0 col0\" >13</td>\n",
       "                        <td id=\"T_c753e762_7eb9_11ea_9398_ec5c6878d556row0_col1\" class=\"data row0 col1\" >$4.61</td>\n",
       "                        <td id=\"T_c753e762_7eb9_11ea_9398_ec5c6878d556row0_col2\" class=\"data row0 col2\" >$59.99</td>\n",
       "            </tr>\n",
       "            <tr>\n",
       "                        <th id=\"T_c753e762_7eb9_11ea_9398_ec5c6878d556level0_row1\" class=\"row_heading level0 row1\" >178</th>\n",
       "                        <th id=\"T_c753e762_7eb9_11ea_9398_ec5c6878d556level1_row1\" class=\"row_heading level1 row1\" >Oathbreaker, Last Hope of the Breaking Storm</th>\n",
       "                        <td id=\"T_c753e762_7eb9_11ea_9398_ec5c6878d556row1_col0\" class=\"data row1 col0\" >12</td>\n",
       "                        <td id=\"T_c753e762_7eb9_11ea_9398_ec5c6878d556row1_col1\" class=\"data row1 col1\" >$4.23</td>\n",
       "                        <td id=\"T_c753e762_7eb9_11ea_9398_ec5c6878d556row1_col2\" class=\"data row1 col2\" >$50.76</td>\n",
       "            </tr>\n",
       "            <tr>\n",
       "                        <th id=\"T_c753e762_7eb9_11ea_9398_ec5c6878d556level0_row2\" class=\"row_heading level0 row2\" >145</th>\n",
       "                        <th id=\"T_c753e762_7eb9_11ea_9398_ec5c6878d556level1_row2\" class=\"row_heading level1 row2\" >Fiery Glass Crusader</th>\n",
       "                        <td id=\"T_c753e762_7eb9_11ea_9398_ec5c6878d556row2_col0\" class=\"data row2 col0\" >9</td>\n",
       "                        <td id=\"T_c753e762_7eb9_11ea_9398_ec5c6878d556row2_col1\" class=\"data row2 col1\" >$4.58</td>\n",
       "                        <td id=\"T_c753e762_7eb9_11ea_9398_ec5c6878d556row2_col2\" class=\"data row2 col2\" >$41.22</td>\n",
       "            </tr>\n",
       "            <tr>\n",
       "                        <th id=\"T_c753e762_7eb9_11ea_9398_ec5c6878d556level0_row3\" class=\"row_heading level0 row3\" >132</th>\n",
       "                        <th id=\"T_c753e762_7eb9_11ea_9398_ec5c6878d556level1_row3\" class=\"row_heading level1 row3\" >Persuasion</th>\n",
       "                        <td id=\"T_c753e762_7eb9_11ea_9398_ec5c6878d556row3_col0\" class=\"data row3 col0\" >9</td>\n",
       "                        <td id=\"T_c753e762_7eb9_11ea_9398_ec5c6878d556row3_col1\" class=\"data row3 col1\" >$3.22</td>\n",
       "                        <td id=\"T_c753e762_7eb9_11ea_9398_ec5c6878d556row3_col2\" class=\"data row3 col2\" >$28.99</td>\n",
       "            </tr>\n",
       "            <tr>\n",
       "                        <th id=\"T_c753e762_7eb9_11ea_9398_ec5c6878d556level0_row4\" class=\"row_heading level0 row4\" >108</th>\n",
       "                        <th id=\"T_c753e762_7eb9_11ea_9398_ec5c6878d556level1_row4\" class=\"row_heading level1 row4\" >Extraction, Quickblade Of Trembling Hands</th>\n",
       "                        <td id=\"T_c753e762_7eb9_11ea_9398_ec5c6878d556row4_col0\" class=\"data row4 col0\" >9</td>\n",
       "                        <td id=\"T_c753e762_7eb9_11ea_9398_ec5c6878d556row4_col1\" class=\"data row4 col1\" >$3.53</td>\n",
       "                        <td id=\"T_c753e762_7eb9_11ea_9398_ec5c6878d556row4_col2\" class=\"data row4 col2\" >$31.77</td>\n",
       "            </tr>\n",
       "    </tbody></table>"
      ],
      "text/plain": [
       "<pandas.io.formats.style.Styler at 0x23339944708>"
      ]
     },
     "execution_count": 9,
     "metadata": {},
     "output_type": "execute_result"
    }
   ],
   "source": [
    "# Creating variable and sorting based on columns\n",
    "popular_items = purchase_data[[\"Item ID\", \"Item Name\", \"Price\"]]\n",
    "\n",
    "# Splitting data into groups based on item ID\n",
    "item_id = popular_items.groupby([\"Item ID\", \"Item Name\"])\n",
    "\n",
    "# Calculating purchase count\n",
    "count_by_purchase = item_id[\"Price\"].count()\n",
    "\n",
    "# Calculating sum of total purchase value\n",
    "total_value_purchase = (item_id[\"Price\"].sum())\n",
    "\n",
    "# Calculating item price\n",
    "price_of_item = total_value_purchase/count_by_purchase\n",
    "\n",
    "# Creating and formatting DataFrame\n",
    "popular_items = pd.DataFrame({\"Purchase Count\": count_by_purchase,\n",
    "                             \"Item Price\": price_of_item,\n",
    "                             \"Total Purchase Value\": total_value_purchase})\n",
    "most_popular = popular_items.sort_values([\"Purchase Count\"], ascending=False).head()\n",
    "most_popular.style.format({\"Item Price\":\"${:,.2f}\",\n",
    "                          \"Total Purchase Value\":\"${:,.2f}\"})"
   ]
  },
  {
   "cell_type": "markdown",
   "metadata": {},
   "source": [
    "## Most Profitable Items"
   ]
  },
  {
   "cell_type": "markdown",
   "metadata": {},
   "source": [
    "* Sort the above table by total purchase value in descending order\n",
    "\n",
    "\n",
    "* Optional: give the displayed data cleaner formatting\n",
    "\n",
    "\n",
    "* Display a preview of the data frame\n",
    "\n"
   ]
  },
  {
   "cell_type": "code",
   "execution_count": 10,
   "metadata": {
    "scrolled": true
   },
   "outputs": [
    {
     "data": {
      "text/html": [
       "<style  type=\"text/css\" >\n",
       "</style><table id=\"T_c7566ed8_7eb9_11ea_8c16_ec5c6878d556\" ><thead>    <tr>        <th class=\"blank\" ></th>        <th class=\"blank level0\" ></th>        <th class=\"col_heading level0 col0\" >Purchase Count</th>        <th class=\"col_heading level0 col1\" >Item Price</th>        <th class=\"col_heading level0 col2\" >Total Purchase Value</th>    </tr>    <tr>        <th class=\"index_name level0\" >Item ID</th>        <th class=\"index_name level1\" >Item Name</th>        <th class=\"blank\" ></th>        <th class=\"blank\" ></th>        <th class=\"blank\" ></th>    </tr></thead><tbody>\n",
       "                <tr>\n",
       "                        <th id=\"T_c7566ed8_7eb9_11ea_8c16_ec5c6878d556level0_row0\" class=\"row_heading level0 row0\" >92</th>\n",
       "                        <th id=\"T_c7566ed8_7eb9_11ea_8c16_ec5c6878d556level1_row0\" class=\"row_heading level1 row0\" >Final Critic</th>\n",
       "                        <td id=\"T_c7566ed8_7eb9_11ea_8c16_ec5c6878d556row0_col0\" class=\"data row0 col0\" >13</td>\n",
       "                        <td id=\"T_c7566ed8_7eb9_11ea_8c16_ec5c6878d556row0_col1\" class=\"data row0 col1\" >$4.61</td>\n",
       "                        <td id=\"T_c7566ed8_7eb9_11ea_8c16_ec5c6878d556row0_col2\" class=\"data row0 col2\" >$59.99</td>\n",
       "            </tr>\n",
       "            <tr>\n",
       "                        <th id=\"T_c7566ed8_7eb9_11ea_8c16_ec5c6878d556level0_row1\" class=\"row_heading level0 row1\" >178</th>\n",
       "                        <th id=\"T_c7566ed8_7eb9_11ea_8c16_ec5c6878d556level1_row1\" class=\"row_heading level1 row1\" >Oathbreaker, Last Hope of the Breaking Storm</th>\n",
       "                        <td id=\"T_c7566ed8_7eb9_11ea_8c16_ec5c6878d556row1_col0\" class=\"data row1 col0\" >12</td>\n",
       "                        <td id=\"T_c7566ed8_7eb9_11ea_8c16_ec5c6878d556row1_col1\" class=\"data row1 col1\" >$4.23</td>\n",
       "                        <td id=\"T_c7566ed8_7eb9_11ea_8c16_ec5c6878d556row1_col2\" class=\"data row1 col2\" >$50.76</td>\n",
       "            </tr>\n",
       "            <tr>\n",
       "                        <th id=\"T_c7566ed8_7eb9_11ea_8c16_ec5c6878d556level0_row2\" class=\"row_heading level0 row2\" >82</th>\n",
       "                        <th id=\"T_c7566ed8_7eb9_11ea_8c16_ec5c6878d556level1_row2\" class=\"row_heading level1 row2\" >Nirvana</th>\n",
       "                        <td id=\"T_c7566ed8_7eb9_11ea_8c16_ec5c6878d556row2_col0\" class=\"data row2 col0\" >9</td>\n",
       "                        <td id=\"T_c7566ed8_7eb9_11ea_8c16_ec5c6878d556row2_col1\" class=\"data row2 col1\" >$4.90</td>\n",
       "                        <td id=\"T_c7566ed8_7eb9_11ea_8c16_ec5c6878d556row2_col2\" class=\"data row2 col2\" >$44.10</td>\n",
       "            </tr>\n",
       "            <tr>\n",
       "                        <th id=\"T_c7566ed8_7eb9_11ea_8c16_ec5c6878d556level0_row3\" class=\"row_heading level0 row3\" >145</th>\n",
       "                        <th id=\"T_c7566ed8_7eb9_11ea_8c16_ec5c6878d556level1_row3\" class=\"row_heading level1 row3\" >Fiery Glass Crusader</th>\n",
       "                        <td id=\"T_c7566ed8_7eb9_11ea_8c16_ec5c6878d556row3_col0\" class=\"data row3 col0\" >9</td>\n",
       "                        <td id=\"T_c7566ed8_7eb9_11ea_8c16_ec5c6878d556row3_col1\" class=\"data row3 col1\" >$4.58</td>\n",
       "                        <td id=\"T_c7566ed8_7eb9_11ea_8c16_ec5c6878d556row3_col2\" class=\"data row3 col2\" >$41.22</td>\n",
       "            </tr>\n",
       "            <tr>\n",
       "                        <th id=\"T_c7566ed8_7eb9_11ea_8c16_ec5c6878d556level0_row4\" class=\"row_heading level0 row4\" >103</th>\n",
       "                        <th id=\"T_c7566ed8_7eb9_11ea_8c16_ec5c6878d556level1_row4\" class=\"row_heading level1 row4\" >Singed Scalpel</th>\n",
       "                        <td id=\"T_c7566ed8_7eb9_11ea_8c16_ec5c6878d556row4_col0\" class=\"data row4 col0\" >8</td>\n",
       "                        <td id=\"T_c7566ed8_7eb9_11ea_8c16_ec5c6878d556row4_col1\" class=\"data row4 col1\" >$4.35</td>\n",
       "                        <td id=\"T_c7566ed8_7eb9_11ea_8c16_ec5c6878d556row4_col2\" class=\"data row4 col2\" >$34.80</td>\n",
       "            </tr>\n",
       "    </tbody></table>"
      ],
      "text/plain": [
       "<pandas.io.formats.style.Styler at 0x23339939a08>"
      ]
     },
     "execution_count": 10,
     "metadata": {},
     "output_type": "execute_result"
    }
   ],
   "source": [
    "# Sorting values to calculate key metrics for most profitable items\n",
    "most_popular = popular_items.sort_values([\"Total Purchase Value\"],\n",
    "                                        ascending=False).head()\n",
    "\n",
    "# Formatting table\n",
    "most_popular.style.format({\"Item Price\":\"${:,.2f}\",\n",
    "                          \"Total Purchase Value\":\"${:,.2f}\"})"
   ]
  },
  {
   "cell_type": "markdown",
   "metadata": {},
   "source": [
    "<b>Two Observable Trends</b>\n",
    "1. Percentage and count in male players was significantly higher than percentage and count of female players, resulting in a higher purchase value for males and a lower purchase value females. Based on the data, an assumption can be made that players are predominantly males.\n",
    "2. Age ranges 20-24 had the highest purchase count and a higher purchase value, while age ranges 40+ had the lowest purchase count and a lower purchase value. The data signifies that the percentage of players, between age ranges 20-24, is significantly high compared to other age ranges."
   ]
  }
 ],
 "metadata": {
  "anaconda-cloud": {},
  "kernel_info": {
   "name": "python3"
  },
  "kernelspec": {
   "display_name": "Python 3",
   "language": "python",
   "name": "python3"
  },
  "language_info": {
   "codemirror_mode": {
    "name": "ipython",
    "version": 3
   },
   "file_extension": ".py",
   "mimetype": "text/x-python",
   "name": "python",
   "nbconvert_exporter": "python",
   "pygments_lexer": "ipython3",
   "version": "3.7.4"
  },
  "latex_envs": {
   "LaTeX_envs_menu_present": true,
   "autoclose": false,
   "autocomplete": true,
   "bibliofile": "biblio.bib",
   "cite_by": "apalike",
   "current_citInitial": 1,
   "eqLabelWithNumbers": true,
   "eqNumInitial": 1,
   "hotkeys": {
    "equation": "Ctrl-E",
    "itemize": "Ctrl-I"
   },
   "labels_anchors": false,
   "latex_user_defs": false,
   "report_style_numbering": false,
   "user_envs_cfg": false
  },
  "nteract": {
   "version": "0.2.0"
  }
 },
 "nbformat": 4,
 "nbformat_minor": 2
}
